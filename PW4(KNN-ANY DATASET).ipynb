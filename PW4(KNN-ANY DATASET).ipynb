{
  "metadata": {
    "language_info": {
      "codemirror_mode": {
        "name": "python",
        "version": 3
      },
      "file_extension": ".py",
      "mimetype": "text/x-python",
      "name": "python",
      "nbconvert_exporter": "python",
      "pygments_lexer": "ipython3",
      "version": "3.8"
    },
    "kernelspec": {
      "name": "python",
      "display_name": "Python (Pyodide)",
      "language": "python"
    }
  },
  "nbformat_minor": 4,
  "nbformat": 4,
  "cells": [
    {
      "cell_type": "code",
      "source": "import pandas as pd\nfrom sklearn.impute import KNNImputer\nfrom sklearn.preprocessing import LabelEncoder",
      "metadata": {
        "trusted": true
      },
      "execution_count": 7,
      "outputs": []
    },
    {
      "cell_type": "code",
      "source": "# Load the dataset\ndf = pd.read_csv('horse.csv')\n",
      "metadata": {
        "trusted": true
      },
      "execution_count": 9,
      "outputs": []
    },
    {
      "cell_type": "code",
      "source": "# Check for missing values\nprint('Missing values before imputation:')\nprint(df.isnull().sum())\n",
      "metadata": {
        "trusted": true
      },
      "execution_count": 10,
      "outputs": [
        {
          "name": "stdout",
          "text": "Missing values before imputation:\nsurgery                    0\nage                        0\nhospital_number            0\nrectal_temp               60\npulse                     24\nrespiratory_rate          58\ntemp_of_extremities       56\nperipheral_pulse          69\nmucous_membrane           47\ncapillary_refill_time     32\npain                      55\nperistalsis               44\nabdominal_distention      56\nnasogastric_tube         104\nnasogastric_reflux       106\nnasogastric_reflux_ph    246\nrectal_exam_feces        102\nabdomen                  118\npacked_cell_volume        29\ntotal_protein             33\nabdomo_appearance        165\nabdomo_protein           198\noutcome                    0\nsurgical_lesion            0\nlesion_1                   0\nlesion_2                   0\nlesion_3                   0\ncp_data                    0\ndtype: int64\n",
          "output_type": "stream"
        }
      ]
    },
    {
      "cell_type": "code",
      "source": "# Identify columns with string values\nstring_cols = df.select_dtypes(include=['object']).columns",
      "metadata": {
        "trusted": true
      },
      "execution_count": 11,
      "outputs": []
    },
    {
      "cell_type": "code",
      "source": "# Perform label encoding for string columns\nlabel_encoders = {}\nfor col in string_cols:\n    label_encoders[col] = LabelEncoder()\n    df[col] = label_encoders[col].fit_transform(df[col].astype(str))\n",
      "metadata": {
        "trusted": true
      },
      "execution_count": 18,
      "outputs": []
    },
    {
      "cell_type": "code",
      "source": "# Create a KNN imputer object\nimputer = KNNImputer(n_neighbors=5)  # You can adjust the number of neighbors (k) as per your requirement\n",
      "metadata": {
        "trusted": true
      },
      "execution_count": 19,
      "outputs": []
    },
    {
      "cell_type": "code",
      "source": "# Perform KNN imputation\ndf_imputed = pd.DataFrame(imputer.fit_transform(df), columns=df.columns)\n",
      "metadata": {
        "trusted": true
      },
      "execution_count": 20,
      "outputs": []
    },
    {
      "cell_type": "code",
      "source": "# Convert the label-encoded columns back to their original format\nfor col in string_cols:\n    df_imputed[col] = label_encoders[col].inverse_transform(df_imputed[col].astype(int))\n",
      "metadata": {
        "trusted": true
      },
      "execution_count": 21,
      "outputs": []
    },
    {
      "cell_type": "code",
      "source": "# Check for missing values after imputation\nprint('\\nMissing values after imputation:')\nprint(df_imputed.isnull().sum())",
      "metadata": {
        "trusted": true
      },
      "execution_count": 22,
      "outputs": [
        {
          "name": "stdout",
          "text": "\nMissing values after imputation:\nsurgery                  0\nage                      0\nhospital_number          0\nrectal_temp              0\npulse                    0\nrespiratory_rate         0\ntemp_of_extremities      0\nperipheral_pulse         0\nmucous_membrane          0\ncapillary_refill_time    0\npain                     0\nperistalsis              0\nabdominal_distention     0\nnasogastric_tube         0\nnasogastric_reflux       0\nnasogastric_reflux_ph    0\nrectal_exam_feces        0\nabdomen                  0\npacked_cell_volume       0\ntotal_protein            0\nabdomo_appearance        0\nabdomo_protein           0\noutcome                  0\nsurgical_lesion          0\nlesion_1                 0\nlesion_2                 0\nlesion_3                 0\ncp_data                  0\ndtype: int64\n",
          "output_type": "stream"
        }
      ]
    },
    {
      "cell_type": "code",
      "source": "",
      "metadata": {},
      "execution_count": null,
      "outputs": []
    }
  ]
}